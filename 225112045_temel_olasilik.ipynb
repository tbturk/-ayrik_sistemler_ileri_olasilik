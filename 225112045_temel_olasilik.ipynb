{
  "nbformat": 4,
  "nbformat_minor": 0,
  "metadata": {
    "colab": {
      "provenance": [],
      "authorship_tag": "ABX9TyP0AhkrTaQkUSfd+/TE8B77",
      "include_colab_link": true
    },
    "kernelspec": {
      "name": "python3",
      "display_name": "Python 3"
    },
    "language_info": {
      "name": "python"
    }
  },
  "cells": [
    {
      "cell_type": "markdown",
      "metadata": {
        "id": "view-in-github",
        "colab_type": "text"
      },
      "source": [
        "<a href=\"https://colab.research.google.com/github/tbturk/ayrik_sistemler_ileri_olasilik/blob/main/225112045_temel_olasilik.ipynb\" target=\"_parent\"><img src=\"https://colab.research.google.com/assets/colab-badge.svg\" alt=\"Open In Colab\"/></a>"
      ]
    },
    {
      "cell_type": "markdown",
      "source": [
        "### Temel Olasılık Ödev2 - Taha Batuhan TÜRK - 225112045"
      ],
      "metadata": {
        "id": "b1AgajeRwMoT"
      }
    },
    {
      "cell_type": "markdown",
      "source": [
        "### Soru\n",
        "Bir sınıfta 25 öğrenci var ve sınıftaki öğrencilerin %40'ı erkek, geri kalan %60'ı kadındır. Matematik dersinden geçme olasılığı erkek öğrenciler için %70, kadın öğrenciler için %60'tır.Bu sınıftan rastgele seçilen bir öğrencinin matematik dersinden geçme olasılığı nedir? "
      ],
      "metadata": {
        "id": "N1kOb1W0txvP"
      }
    },
    {
      "cell_type": "markdown",
      "source": [
        "### Çözüm:\n",
        "\n",
        "Sınıftaki öğrencilerin %40'ı erkek olduğuna göre, erkek öğrenci sayısı:\n",
        "\n",
        "25 x 0.40 = 10\n",
        "\n",
        "Sınıftaki öğrencilerin %60'ı kadın olduğuna göre, kadın öğrenci sayısı:\n",
        "\n",
        "25 x 0.60 = 15\n",
        "\n",
        "Toplamda, sınıfta 10 erkek ve 15 kadın öğrenci var.\n",
        "\n",
        "Matematik dersinden geçme olasılığı erkek öğrenciler için %70 olduğuna göre, erkek öğrencilerin matematik dersinden geçme olasılığı:\n",
        "\n",
        "10 x 0.70 = 7\n",
        "\n",
        "Matematik dersinden geçme olasılığı kadın öğrenciler için %60 olduğuna göre, kadın öğrencilerin matematik dersinden geçme olasılığı:\n",
        "\n",
        "15 x 0.60 = 9\n",
        "\n",
        "Toplamda, matematik dersinden geçme olasılığı:\n",
        "\n",
        "(7 + 9) / 25 = 0.64"
      ],
      "metadata": {
        "id": "HqTpLX1otwKW"
      }
    },
    {
      "cell_type": "code",
      "source": [
        "erkek_ogrenci_sayisi = 25 * 0.40\n",
        "kadin_ogrenci_sayisi = 25 * 0.60\n",
        "erkek_ogrencilerin_gecme_olasiligi = erkek_ogrenci_sayisi * 0.70\n",
        "kadin_ogrencilerin_gecme_olasiligi = kadin_ogrenci_sayisi * 0.60\n",
        "toplam_olasilik = (erkek_ogrencilerin_gecme_olasiligi + kadin_ogrencilerin_gecme_olasiligi) / 25\n",
        "\n",
        "print(\"Matematik dersinden geçme olasılığı:\", toplam_olasilik)"
      ],
      "metadata": {
        "id": "gB_DBaZXwd-F",
        "outputId": "a91620c5-42e8-48ff-b0b7-ff50f20f1b0e",
        "colab": {
          "base_uri": "https://localhost:8080/"
        }
      },
      "execution_count": 1,
      "outputs": [
        {
          "output_type": "stream",
          "name": "stdout",
          "text": [
            "Matematik dersinden geçme olasılığı: 0.64\n"
          ]
        }
      ]
    }
  ]
}