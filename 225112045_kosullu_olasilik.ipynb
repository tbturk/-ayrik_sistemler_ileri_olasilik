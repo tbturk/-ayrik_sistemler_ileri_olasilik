{
  "nbformat": 4,
  "nbformat_minor": 0,
  "metadata": {
    "colab": {
      "provenance": [],
      "authorship_tag": "ABX9TyP56BUgZTzS5WdAfHH/JKij",
      "include_colab_link": true
    },
    "kernelspec": {
      "name": "python3",
      "display_name": "Python 3"
    },
    "language_info": {
      "name": "python"
    }
  },
  "cells": [
    {
      "cell_type": "markdown",
      "metadata": {
        "id": "view-in-github",
        "colab_type": "text"
      },
      "source": [
        "<a href=\"https://colab.research.google.com/github/tbturk/ayrik_sistemler_ileri_olasilik/blob/main/225112045_kosullu_olasilik.ipynb\" target=\"_parent\"><img src=\"https://colab.research.google.com/assets/colab-badge.svg\" alt=\"Open In Colab\"/></a>"
      ]
    },
    {
      "cell_type": "code",
      "execution_count": null,
      "metadata": {
        "id": "XN1O8n4SelH3"
      },
      "outputs": [],
      "source": [
        "Koşullu Olasılık Ödev3 - Taha Batuhan TÜRK - 225112045"
      ]
    },
    {
      "cell_type": "markdown",
      "source": [
        "### Soru\n",
        "İki çocuklu bir ailede çocuklardan en az birinin kız olması durumunda ikisinin de kız olma olasılığı kaçtır?\n",
        "\n",
        "### Çözüm\n",
        "\n",
        "P(A|B)= P(A ∩ B)\n",
        "\n",
        "= P(ikisi de kız ∩ en az biri kız) / P(en az biri kız)\n",
        "\n",
        "= P(ikisi de kız) / P(en az biri kız)\n",
        "\n",
        "= 1÷4 / 3÷4\n",
        "\n",
        "= 1/3"
      ],
      "metadata": {
        "id": "kEXFDseenGJi"
      }
    },
    {
      "cell_type": "code",
      "source": [
        "import random\n",
        "\n",
        "sample_size = 1000\n",
        "\n",
        "num_families_at_least_one_girl = 0\n",
        "num_families_two_girls = 0\n",
        "\n",
        "for i in range(sample_size):\n",
        "    first_child = random.choice([\"boy\", \"girl\"])\n",
        "    second_child = random.choice([\"boy\", \"girl\"])\n",
        "    if first_child == \"girl\" or second_child == \"girl\":\n",
        "        num_families_at_least_one_girl += 1\n",
        "        if first_child == \"girl\" and second_child == \"girl\":\n",
        "            num_families_two_girls += 1\n",
        "\n",
        "result = round(num_families_two_girls / num_families_at_least_one_girl, 2)\n",
        "print(f\"{sample_size} örnekten, {num_families_at_least_one_girl}'sında en az 1 kız var.\")\n",
        "print(f\"Bunlardan {num_families_two_girls}'sinin 2 kız çocuğu var\")\n",
        "print(f\"{result} olasılıkla en az bir çocuk kız ise, her iki çocuk da kızdır.\")"
      ],
      "metadata": {
        "colab": {
          "base_uri": "https://localhost:8080/"
        },
        "id": "QrHs1FMfnF2c",
        "outputId": "9b1891c3-f5bc-40e2-a6cd-a6f48b8e5336"
      },
      "execution_count": 11,
      "outputs": [
        {
          "output_type": "stream",
          "name": "stdout",
          "text": [
            "1000 örnekten, 734'sında en az 1 kız var.\n",
            "Bunlardan 248'sinin 2 kız çocuğu var\n",
            "0.34 olasılıkla en az bir çocuk kız ise, her iki çocuk da kızdır.\n"
          ]
        }
      ]
    }
  ]
}